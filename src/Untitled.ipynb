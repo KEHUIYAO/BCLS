{
 "cells": [
  {
   "cell_type": "code",
   "execution_count": 1,
   "id": "d5d414f6",
   "metadata": {},
   "outputs": [
    {
     "ename": "ModuleNotFoundError",
     "evalue": "No module named 'topojson'",
     "output_type": "error",
     "traceback": [
      "\u001b[0;31m---------------------------------------------------------------------------\u001b[0m",
      "\u001b[0;31mModuleNotFoundError\u001b[0m                       Traceback (most recent call last)",
      "\u001b[0;32m/var/folders/2n/72_3lp9j7gq7szv0_rk5qdx80000gn/T/ipykernel_32637/805075556.py\u001b[0m in \u001b[0;36m<module>\u001b[0;34m\u001b[0m\n\u001b[1;32m      1\u001b[0m \u001b[0;32mimport\u001b[0m \u001b[0mnumpy\u001b[0m \u001b[0;32mas\u001b[0m \u001b[0mnp\u001b[0m\u001b[0;34m\u001b[0m\u001b[0;34m\u001b[0m\u001b[0m\n\u001b[1;32m      2\u001b[0m \u001b[0;32mimport\u001b[0m \u001b[0mpandas\u001b[0m \u001b[0;32mas\u001b[0m \u001b[0mpd\u001b[0m\u001b[0;34m\u001b[0m\u001b[0;34m\u001b[0m\u001b[0m\n\u001b[0;32m----> 3\u001b[0;31m \u001b[0;32mimport\u001b[0m \u001b[0mtopojson\u001b[0m \u001b[0;31m# install from https://github.com/sgillies\u001b[0m\u001b[0;34m\u001b[0m\u001b[0;34m\u001b[0m\u001b[0m\n\u001b[0m\u001b[1;32m      4\u001b[0m \u001b[0;32mimport\u001b[0m \u001b[0mjson\u001b[0m\u001b[0;34m,\u001b[0m \u001b[0mrequests\u001b[0m\u001b[0;34m\u001b[0m\u001b[0;34m\u001b[0m\u001b[0m\n\u001b[1;32m      5\u001b[0m \u001b[0;32mimport\u001b[0m \u001b[0mplotly\u001b[0m\u001b[0;34m.\u001b[0m\u001b[0mgraph_objs\u001b[0m \u001b[0;32mas\u001b[0m \u001b[0mgo\u001b[0m\u001b[0;34m\u001b[0m\u001b[0;34m\u001b[0m\u001b[0m\n",
      "\u001b[0;31mModuleNotFoundError\u001b[0m: No module named 'topojson'"
     ]
    }
   ],
   "source": [
    "import numpy as np\n",
    "import pandas as pd\n",
    "\n",
    "import json, requests\n",
    "import plotly.graph_objs as go\n",
    "def set_interval_value(x, a, b):\n",
    "    # function that associate to a float x, a value encoding its position with respect to the interval [a, b]\n",
    "    #  the associated values are 0, 1, 2 assigned as follows:\n",
    "    if x <= a: \n",
    "        return 0\n",
    "    elif a < x <= b: \n",
    "        return 1\n",
    "    else: \n",
    "        return 2\n",
    "    \n",
    "def data2color(x, y, a, b, c, d, biv_colors):\n",
    "    # This function works only with a list of 9 bivariate colors, because of the definition of set_interval_value()\n",
    "    # x, y: lists or 1d arrays, containing values of the two variables\n",
    "    #  each x[k], y[k] is mapped to an int  value xv, respectively yv, representing its category,\n",
    "    # from which we get their corresponding color  in the list of bivariate colors\n",
    "    if len(x) != len(y):\n",
    "        raise ValueError('the list of x and y-coordinates must have the same length')\n",
    "    n_colors = len(biv_colors)\n",
    "    if n_colors != 9:\n",
    "        raise ValueError('the list of bivariate colors must have the length eaqual to 9')\n",
    "    n = 3    \n",
    "    xcol = [set_interval_value(v, a, b) for v in x]\n",
    "    ycol = [set_interval_value(v, c, d) for v in y]\n",
    "    idxcol = [int(xc + n*yc) for xc, yc in zip(xcol,ycol)]# index of the corresponding color in the list of bivariate colors\n",
    "    colors = np.array(biv_colors)[idxcol]\n",
    "    return list(colors)\n",
    "\n",
    "def colorsquare(text_x, text_y, colorscale, n=3, xaxis ='x2', yaxis='y2'): \n",
    "    # text_x : list of n strings, representing intervals of values for the first variable or its n percentiles\n",
    "    # text_y : list of n strings, representing intervals of values for the second variable or its n percentiles\n",
    "    # colorscale: Plotly bivariate colorscale\n",
    "    # returns the colorsquare as alegend for the bivariate choropleth, heatmap and more\n",
    "    \n",
    "    z = [[j+n*i for j in range(n)] for i in range(n)]\n",
    "    n = len(text_x)\n",
    "    if len(text_x) != n   or len(text_y) != n  or len(colorscale) != 2*n**2:\n",
    "        raise ValueError('Your lists of strings  must have the length {n} and the colorscale, {n**2}')\n",
    "    \n",
    "    text = [[text_x[j]+'<br>'+text_y[i] for j in range(len(text_x))] for i in range(len(text_y))]\n",
    "    return go.Heatmap(x=list(range(n)),\n",
    "                      y=list(range(n)),\n",
    "                      z=z,\n",
    "                      xaxis=xaxis,\n",
    "                      yaxis=yaxis, \n",
    "                      text=text, \n",
    "                      hoverinfo='text',  \n",
    "                      colorscale=colorscale,\n",
    "                      showscale=False)   \n",
    "\n",
    "def colors_to_colorscale(biv_colors):\n",
    "    # biv_colors: list of n**2 color codes in hexa or RGB255\n",
    "    # returns a discrete colorscale  defined by biv_colors\n",
    "    n = len(biv_colors)\n",
    "    biv_colorscale = []\n",
    "    for k, col in enumerate(biv_colors):\n",
    "        biv_colorscale.extend([[round(k/n, 2) , col], [round((k+1)/n, 2), col]])\n",
    "    return biv_colorscale"
   ]
  },
  {
   "cell_type": "code",
   "execution_count": null,
   "id": "c5b1116b",
   "metadata": {},
   "outputs": [],
   "source": [
    "|"
   ]
  }
 ],
 "metadata": {
  "kernelspec": {
   "display_name": "Python 3 (ipykernel)",
   "language": "python",
   "name": "python3"
  },
  "language_info": {
   "codemirror_mode": {
    "name": "ipython",
    "version": 3
   },
   "file_extension": ".py",
   "mimetype": "text/x-python",
   "name": "python",
   "nbconvert_exporter": "python",
   "pygments_lexer": "ipython3",
   "version": "3.7.3"
  }
 },
 "nbformat": 4,
 "nbformat_minor": 5
}
