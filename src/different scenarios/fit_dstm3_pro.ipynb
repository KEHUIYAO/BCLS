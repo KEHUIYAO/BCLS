{
 "cells": [
  {
   "cell_type": "markdown",
   "id": "128f5038",
   "metadata": {},
   "source": [
    "# Goal\n",
    "The ultimate goal is to overfit the model on a small dstm3 dataset. If it can not be done, then something must be wrong be the model."
   ]
  },
  {
   "cell_type": "markdown",
   "id": "da821888",
   "metadata": {},
   "source": [
    "# Different baseline values, evolving 15 time steps, predict the sequence from t $\\in$ {5, 6, 7, 8}\n",
    "We initialize the sequence at different baseline values and let it evolve 4 time steps, then predict the next 4 time steps."
   ]
  },
  {
   "cell_type": "markdown",
   "id": "125c8b60",
   "metadata": {},
   "source": [
    "## Baseline value changes for every training sample\n",
    "This is considered to be difficult to train the only way to fit well on this dataset is to fully capture the spatial temporal structure."
   ]
  },
  {
   "cell_type": "markdown",
   "id": "e8e7f819",
   "metadata": {},
   "source": [
    "### Train and validate the model"
   ]
  },
  {
   "cell_type": "code",
   "execution_count": 12,
   "id": "34511faa",
   "metadata": {},
   "outputs": [
    {
     "name": "stdout",
     "output_type": "stream",
     "text": [
      "max eigen value is 0.204281\n",
      "valid initial parameters!\n"
     ]
    },
    {
     "name": "stderr",
     "output_type": "stream",
     "text": [
      "GPU available: True, used: True\n",
      "TPU available: False, using: 0 TPU cores\n",
      "LOCAL_RANK: 0 - CUDA_VISIBLE_DEVICES: [0]\n",
      "\n",
      "  | Name          | Type    | Params\n",
      "------------------------------------------\n",
      "0 | ED            | ED_pro  | 2.5 M \n",
      "1 | loss_function | MSELoss | 0     \n",
      "------------------------------------------\n",
      "2.5 M     Trainable params\n",
      "0         Non-trainable params\n",
      "2.5 M     Total params\n",
      "9.812     Total estimated model params size (MB)\n"
     ]
    },
    {
     "name": "stdout",
     "output_type": "stream",
     "text": [
      "based on the error term, the best mse we can achieve will be above 0.0001\n",
      "GroupNorm will be applied!\n",
      "GroupNorm will be applied!\n",
      "GroupNorm will be applied!\n",
      "GroupNorm will be applied!\n"
     ]
    },
    {
     "data": {
      "application/vnd.jupyter.widget-view+json": {
       "model_id": "",
       "version_major": 2,
       "version_minor": 0
      },
      "text/plain": [
       "Validation sanity check: 0it [00:00, ?it/s]"
      ]
     },
     "metadata": {},
     "output_type": "display_data"
    },
    {
     "data": {
      "application/vnd.jupyter.widget-view+json": {
       "model_id": "5ce7dde8838841f9b2b2738839399fa7",
       "version_major": 2,
       "version_minor": 0
      },
      "text/plain": [
       "Training: 0it [00:00, ?it/s]"
      ]
     },
     "metadata": {},
     "output_type": "display_data"
    },
    {
     "data": {
      "application/vnd.jupyter.widget-view+json": {
       "model_id": "1c2d02426637455da304a4349626d04d",
       "version_major": 2,
       "version_minor": 0
      },
      "text/plain": [
       "Validating: 0it [00:00, ?it/s]"
      ]
     },
     "metadata": {},
     "output_type": "display_data"
    }
   ],
   "source": [
    "import sys\n",
    "# insert at 1, 0 is the script path (or ‘’ in REPL)\n",
    "sys.path.insert(1, '../')\n",
    "import numpy as np\n",
    "import torch\n",
    "from torch.utils.data import DataLoader\n",
    "from bayesian_neural_net import CLSTM_cell\n",
    "from bayesian_neural_net import ConvCell\n",
    "from bayesian_neural_net import Encoder_pro\n",
    "from bayesian_neural_net import Decoder_pro\n",
    "from bayesian_neural_net import ED_pro\n",
    "from bayesian_neural_net import ConvRelu\n",
    "from bayesian_neural_net import DeconvRelu\n",
    "from visualization import plot_spatio_temporal_data\n",
    "from simulation_dataset import DatasetDstm\n",
    "from simulation_dataset import DatasetDstmDecoderWithoutInput\n",
    "from simulation_dataset import DatasetDstmEncoderWithoutInput\n",
    "from simulation_dataset import DatasetDstm3\n",
    "from simulation_dataset_datamodule import DatasetDataModule\n",
    "from trainer import LightningED\n",
    "from visualization import plot_spatio_temporal_data\n",
    "import pytorch_lightning as pl\n",
    "from pytorch_lightning.loggers import TensorBoardLogger\n",
    "# simulate the data\n",
    "n = 10\n",
    "T = 15\n",
    "theta1 = 0.5\n",
    "theta2 = 1\n",
    "theta3 = 1\n",
    "theta4 = 1\n",
    "total = 200\n",
    "mask = np.ones([total, T]) * np.array([1, 1, 1, 1, 0, 0, 0, 0, 1, 1, 1, 1, 1, 1, 1]) == 1\n",
    "baseline_underlying = np.random.randn(total, n**2)  # the baseline changes for every sample\n",
    "data = DatasetDstm3(n, T, theta1, theta2, theta3, theta4, total, mask, baseline_underlying)\n",
    "data_module = DatasetDataModule(data, 1, 0.5)\n",
    "\n",
    "\n",
    "# build the model\n",
    "# encoder pro\n",
    "rnns = [CLSTM_cell(shape=(10, 10), input_channels=16, filter_size=3, num_features=64,\n",
    "                   dropout_rate=0),\n",
    "        CLSTM_cell(shape=(5, 5), input_channels=64, filter_size=5, num_features=96, dropout_rate=0)\n",
    "        ]\n",
    "\n",
    "convrelus = [ConvRelu(1, 16, 3, 1, 1, dropout_rate=0.),\n",
    "             ConvRelu(64, 64, 3, 2, 1, dropout_rate=0.)\n",
    "             ]\n",
    "\n",
    "encoder_net = Encoder_pro(rnns, convrelus)\n",
    "\n",
    "# input for encoder\n",
    "S = 10\n",
    "B = 2\n",
    "input_channels = 1\n",
    "H = 64\n",
    "W = 64\n",
    "input_for_encoder = [torch.randn(B, S, input_channels, H, W)]\n",
    "\n",
    "# decoder_pro\n",
    "rnns = [CLSTM_cell(shape=(5, 5), input_channels=1, filter_size=3, num_features=96, dropout_rate=0),\n",
    "        CLSTM_cell(shape=(10, 10), input_channels=64, filter_size=3, num_features=64, dropout_rate=0)\n",
    "        ]\n",
    "\n",
    "deconvrelus = [DeconvRelu(96, 64, 2, 2, 0, dropout_rate=0),\n",
    "               DeconvRelu(64, 64, 3, 1, 1, dropout_rate=0)\n",
    "               ]\n",
    "\n",
    "\n",
    "cnn = ConvCell(in_channels=64, out_channels=1, kernel_size=1, stride=1, padding=0)\n",
    "decoder_net = Decoder_pro(rnns, deconvrelus, cnn)\n",
    "\n",
    "# ED net\n",
    "ED_net = ED_pro(encoder_net, decoder_net)\n",
    "mc_dropout = 5\n",
    "learning_rate = 1e-4\n",
    "max_epoch = 20\n",
    "model = LightningED(ED_net, mc_dropout, learning_rate)\n",
    "\n",
    "# load from checkpoint\n",
    "try:\n",
    "    model.load_from_checkpoint(checkpoint_path='dstm3_pro.ckpt', ED=ED_net, mc_dropout=mc_dropout, learning_rate=learning_rate)\n",
    "except:\n",
    "    print(\"fail to load the model\")\n",
    "    pass\n",
    "\n",
    "#logger = TensorBoardLogger('tb_logs', name='Bayesian_ConvLSTM')\n",
    "\n",
    "if torch.cuda.is_available():\n",
    "    trainer = pl.Trainer(max_epochs=max_epoch, gpus=1)\n",
    "else:\n",
    "    trainer = pl.Trainer(max_epochs=max_epoch)\n",
    "trainer.fit(model, data_module)\n",
    "\n",
    "# save the checkpoint\n",
    "trainer.save_checkpoint(\"dstm3_pro.ckpt\")"
   ]
  },
  {
   "cell_type": "markdown",
   "id": "5c320f7f",
   "metadata": {},
   "source": [
    "### Test on new test data"
   ]
  },
  {
   "cell_type": "code",
   "execution_count": 15,
   "id": "f8ae947b",
   "metadata": {},
   "outputs": [
    {
     "name": "stdout",
     "output_type": "stream",
     "text": [
      "max eigen value is 0.204281\n",
      "valid initial parameters!\n",
      "based on the error term, the best mse we can achieve will be above 0.0001\n",
      "GroupNorm will be applied!\n",
      "GroupNorm will be applied!\n",
      "GroupNorm will be applied!\n",
      "GroupNorm will be applied!\n",
      "tensor(0.0041, device='cuda:0')\n",
      "tensor(0.0024, device='cuda:0')\n",
      "tensor(0.0051, device='cuda:0')\n",
      "tensor(0.0066, device='cuda:0')\n",
      "tensor(0.0038, device='cuda:0')\n",
      "tensor(0.0034, device='cuda:0')\n",
      "tensor(0.0039, device='cuda:0')\n",
      "tensor(0.0060, device='cuda:0')\n",
      "tensor(0.0032, device='cuda:0')\n",
      "tensor(0.0030, device='cuda:0')\n",
      "tensor(0.0029, device='cuda:0')\n",
      "tensor(0.0065, device='cuda:0')\n",
      "tensor(0.0028, device='cuda:0')\n",
      "tensor(0.0094, device='cuda:0')\n",
      "tensor(0.0021, device='cuda:0')\n",
      "tensor(0.0049, device='cuda:0')\n",
      "tensor(0.0052, device='cuda:0')\n",
      "tensor(0.0037, device='cuda:0')\n",
      "tensor(0.0026, device='cuda:0')\n",
      "tensor(0.0055, device='cuda:0')\n",
      "tensor(0.0069, device='cuda:0')\n",
      "tensor(0.0098, device='cuda:0')\n",
      "tensor(0.0030, device='cuda:0')\n",
      "tensor(0.0064, device='cuda:0')\n",
      "tensor(0.0061, device='cuda:0')\n",
      "tensor(0.0028, device='cuda:0')\n",
      "tensor(0.0044, device='cuda:0')\n",
      "tensor(0.0029, device='cuda:0')\n",
      "tensor(0.0026, device='cuda:0')\n",
      "tensor(0.0043, device='cuda:0')\n",
      "tensor(0.0050, device='cuda:0')\n",
      "tensor(0.0063, device='cuda:0')\n",
      "tensor(0.0030, device='cuda:0')\n",
      "tensor(0.0055, device='cuda:0')\n",
      "tensor(0.0077, device='cuda:0')\n",
      "tensor(0.0031, device='cuda:0')\n",
      "tensor(0.0040, device='cuda:0')\n",
      "tensor(0.0031, device='cuda:0')\n",
      "tensor(0.0036, device='cuda:0')\n",
      "tensor(0.0032, device='cuda:0')\n",
      "tensor(0.0035, device='cuda:0')\n",
      "tensor(0.0047, device='cuda:0')\n",
      "tensor(0.0100, device='cuda:0')\n",
      "tensor(0.0026, device='cuda:0')\n",
      "tensor(0.0031, device='cuda:0')\n",
      "tensor(0.0051, device='cuda:0')\n",
      "tensor(0.0051, device='cuda:0')\n",
      "tensor(0.0035, device='cuda:0')\n",
      "tensor(0.0080, device='cuda:0')\n",
      "tensor(0.0028, device='cuda:0')\n"
     ]
    },
    {
     "data": {
      "text/plain": [
       "0.004587851464748383"
      ]
     },
     "execution_count": 15,
     "metadata": {},
     "output_type": "execute_result"
    }
   ],
   "source": [
    "# test on new data\n",
    "from torch import nn\n",
    "n = 10\n",
    "T = 15\n",
    "theta1 = 0.5\n",
    "theta2 = 1\n",
    "theta3 = 1\n",
    "theta4 = 1\n",
    "total = 50  # number of test data points\n",
    "mask = np.ones([total, T]) * np.array([1, 1, 1, 1, 0, 0, 0, 0, 1, 1, 1, 1, 1, 1, 1]) == 1\n",
    "baseline_underlying = np.random.randn(total, n**2)\n",
    "test_data = DatasetDstm3(n, T, theta1, theta2, theta3, theta4, total, mask, baseline_underlying)\n",
    "test_data_loader = DataLoader(test_data, 1)  # batch size = 1\n",
    "device = torch.device(\"cuda:0\" if torch.cuda.is_available() else \"cpu\")\n",
    "\n",
    "\n",
    "# load model from checkpoint\n",
    "# build the model\n",
    "# encoder pro\n",
    "rnns = [CLSTM_cell(shape=(10, 10), input_channels=16, filter_size=3, num_features=64,\n",
    "                   dropout_rate=0),\n",
    "        CLSTM_cell(shape=(5, 5), input_channels=64, filter_size=5, num_features=96, dropout_rate=0)\n",
    "        ]\n",
    "\n",
    "convrelus = [ConvRelu(1, 16, 3, 1, 1, dropout_rate=0.),\n",
    "             ConvRelu(64, 64, 3, 2, 1, dropout_rate=0.)\n",
    "             ]\n",
    "\n",
    "encoder_net = Encoder_pro(rnns, convrelus)\n",
    "\n",
    "# input for encoder\n",
    "S = 10\n",
    "B = 2\n",
    "input_channels = 1\n",
    "H = 64\n",
    "W = 64\n",
    "input_for_encoder = [torch.randn(B, S, input_channels, H, W)]\n",
    "\n",
    "# decoder_pro\n",
    "rnns = [CLSTM_cell(shape=(5, 5), input_channels=1, filter_size=3, num_features=96, dropout_rate=0),\n",
    "        CLSTM_cell(shape=(10, 10), input_channels=64, filter_size=3, num_features=64, dropout_rate=0)\n",
    "        ]\n",
    "\n",
    "deconvrelus = [DeconvRelu(96, 64, 2, 2, 0, dropout_rate=0),\n",
    "               DeconvRelu(64, 64, 3, 1, 1, dropout_rate=0)\n",
    "               ]\n",
    "\n",
    "\n",
    "cnn = ConvCell(in_channels=64, out_channels=1, kernel_size=1, stride=1, padding=0)\n",
    "decoder_net = Decoder_pro(rnns, deconvrelus, cnn)\n",
    "\n",
    "# ED net\n",
    "ED_net = ED_pro(encoder_net, decoder_net)\n",
    "mc_dropout = 5\n",
    "learning_rate = 1e-4\n",
    "max_epoch = 20\n",
    "model = LightningED(ED_net, mc_dropout, learning_rate)\n",
    "\n",
    "# load from checkpoint\n",
    "try:\n",
    "    model.load_from_checkpoint(checkpoint_path='dstm3_pro.ckpt', ED=ED_net, mc_dropout=mc_dropout, learning_rate=learning_rate)\n",
    "except:\n",
    "    print(\"fail to load the model\")\n",
    "    pass\n",
    "\n",
    "\n",
    "model.to(device)  # transfer the model to gpu\n",
    "\n",
    "# predict for one sample\n",
    "mc_dropout = 10 # use mc dropout\n",
    "loss = 0\n",
    "loss_function = nn.MSELoss()\n",
    "\n",
    "for idx, batch in enumerate(test_data_loader):\n",
    "    res = []\n",
    "\n",
    "    idx, input_for_encoder, input_for_decoder, additional_time_invariant_input, true_data, seq_len = batch\n",
    "\n",
    "    input_for_encoder = [i.to(device) for i in input_for_encoder]\n",
    "    if len(input_for_decoder) != 0:\n",
    "        input_for_decoder = [i.to(device) for i in input_for_decoder]\n",
    "    if len(additional_time_invariant_input) != 0:\n",
    "        additional_time_invariant_input = [i.to(device) for i in additional_time_invariant_input]\n",
    "\n",
    "    for i in range(mc_dropout):\n",
    "        output = model(input_for_encoder, input_for_decoder, additional_time_invariant_input, seq_len)\n",
    "        output = torch.cat(output, dim=1)\n",
    "    \n",
    "        res.append(output)\n",
    "    \n",
    "    \n",
    "    output = torch.stack(res).mean(dim=0)\n",
    "    true_data = torch.cat(true_data, dim=1).to(device)\n",
    "    \n",
    "    cur_loss = loss_function(true_data, output)\n",
    "    print(cur_loss)\n",
    "    \n",
    "    \n",
    "    loss += cur_loss\n",
    "\n",
    "\n",
    "\n",
    "\n",
    "loss.item() / total"
   ]
  },
  {
   "cell_type": "markdown",
   "id": "0481f522",
   "metadata": {},
   "source": [
    "### Visualiztion of the evolvement of a randomly initialized process"
   ]
  },
  {
   "cell_type": "code",
   "execution_count": 22,
   "id": "564b8480",
   "metadata": {},
   "outputs": [
    {
     "name": "stdout",
     "output_type": "stream",
     "text": [
      "max eigen value is 0.204281\n",
      "valid initial parameters!\n",
      "based on the error term, the best mse we can achieve will be above 0.0001\n",
      "GroupNorm will be applied!\n",
      "GroupNorm will be applied!\n",
      "GroupNorm will be applied!\n",
      "GroupNorm will be applied!\n"
     ]
    },
    {
     "data": {
      "image/png": "[encoded data removed]",
      "text/plain": [
       "<Figure size 1440x576 with 15 Axes>"
      ]
     },
     "metadata": {},
     "output_type": "display_data"
    },
    {
     "data": {
      "image/png": "[encoded data removed]",
      "text/plain": [
       "<Figure size 1440x576 with 5 Axes>"
      ]
     },
     "metadata": {},
     "output_type": "display_data"
    },
    {
     "name": "stdout",
     "output_type": "stream",
     "text": [
      "error for the new sample is 0.0013\n"
     ]
    }
   ],
   "source": [
    "# simulate data\n",
    "device = torch.device(\"cuda:0\" if torch.cuda.is_available() else \"cpu\")\n",
    "total = 1  # sample one new data point\n",
    "n = 10\n",
    "T = 15\n",
    "theta1 = 0.5\n",
    "theta2 = 1\n",
    "theta3 = 1\n",
    "theta4 = 1\n",
    "total = 50  # number of test data points\n",
    "mask = np.ones([total, T]) * np.array([1, 1, 1, 1, 0, 0, 0, 0, 1, 1, 1, 1, 1, 1, 1]) == 1\n",
    "baseline_underlying = np.random.randn(total, n**2)\n",
    "test_data = DatasetDstm3(n, T, theta1, theta2, theta3, theta4, total, mask, baseline_underlying)\n",
    "test_data_loader = DataLoader(test_data, 1)  # batch size = 1\n",
    "\n",
    "\n",
    "# build the model\n",
    "# encoder pro\n",
    "rnns = [CLSTM_cell(shape=(10, 10), input_channels=16, filter_size=3, num_features=64,\n",
    "                   dropout_rate=0),\n",
    "        CLSTM_cell(shape=(5, 5), input_channels=64, filter_size=5, num_features=96, dropout_rate=0)\n",
    "        ]\n",
    "\n",
    "convrelus = [ConvRelu(1, 16, 3, 1, 1, dropout_rate=0.),\n",
    "             ConvRelu(64, 64, 3, 2, 1, dropout_rate=0.)\n",
    "             ]\n",
    "\n",
    "encoder_net = Encoder_pro(rnns, convrelus)\n",
    "\n",
    "# input for encoder\n",
    "S = 10\n",
    "B = 2\n",
    "input_channels = 1\n",
    "H = 64\n",
    "W = 64\n",
    "input_for_encoder = [torch.randn(B, S, input_channels, H, W)]\n",
    "\n",
    "# decoder_pro\n",
    "rnns = [CLSTM_cell(shape=(5, 5), input_channels=1, filter_size=3, num_features=96, dropout_rate=0),\n",
    "        CLSTM_cell(shape=(10, 10), input_channels=64, filter_size=3, num_features=64, dropout_rate=0)\n",
    "        ]\n",
    "\n",
    "deconvrelus = [DeconvRelu(96, 64, 2, 2, 0, dropout_rate=0),\n",
    "               DeconvRelu(64, 64, 3, 1, 1, dropout_rate=0)\n",
    "               ]\n",
    "\n",
    "\n",
    "cnn = ConvCell(in_channels=64, out_channels=1, kernel_size=1, stride=1, padding=0)\n",
    "decoder_net = Decoder_pro(rnns, deconvrelus, cnn)\n",
    "\n",
    "# ED net\n",
    "ED_net = ED_pro(encoder_net, decoder_net)\n",
    "mc_dropout = 5z`\n",
    "learning_rate = 1e-4\n",
    "max_epoch = 20\n",
    "model = LightningED(ED_net, mc_dropout, learning_rate)\n",
    "\n",
    "# load from checkpoint\n",
    "try:\n",
    "    model.load_from_checkpoint(checkpoint_path='temp.ckpt', ED=ED_net, mc_dropout=mc_dropout, learning_rate=learning_rate)\n",
    "except:\n",
    "    print(\"fail to load the model\")\n",
    "    pass\n",
    "\n",
    "\n",
    "\n",
    "model.to(device)  # transfer the model to gpu\n",
    "\n",
    "# predict for one sample\n",
    "for idx, batch in enumerate(test_data_loader):\n",
    "\n",
    "    idx, input_for_encoder, input_for_decoder, additional_time_invariant_input, output, seq_len = batch\n",
    "\n",
    "    input_for_encoder = [i.to(device) for i in input_for_encoder]\n",
    "    if len(input_for_decoder) != 0:\n",
    "        input_for_decoder = [i.to(device) for i in input_for_decoder]\n",
    "    if len(additional_time_invariant_input) != 0:\n",
    "        additional_time_invariant_input = [i.to(device) for i in additional_time_invariant_input]\n",
    "\n",
    "\n",
    "    output = model(input_for_encoder, input_for_decoder, additional_time_invariant_input, seq_len)\n",
    "    \n",
    "    if idx == 0:\n",
    "        break\n",
    "\n",
    "# plot the true data\n",
    "true_data = test_data.Z[0, ...].squeeze(1)\n",
    "\n",
    "plot_spatio_temporal_data(true_data)\n",
    "predicted_data = torch.cat(output, dim=1).cpu().detach().numpy().squeeze(0).squeeze(1)\n",
    "plot_spatio_temporal_data(predicted_data)\n",
    "\n",
    "print(\"error for the new sample is %.4f\"%np.mean((predicted_data - true_data[~mask[0, :], ...])**2))"
   ]
  },
  {
   "cell_type": "code",
   "execution_count": null,
   "id": "0eceb4b9",
   "metadata": {},
   "outputs": [],
   "source": []
  }
 ],
 "metadata": {
  "environment": {
   "name": "pytorch-gpu.1-9.m75",
   "type": "gcloud",
   "uri": "gcr.io/deeplearning-platform-release/pytorch-gpu.1-9:m75"
  },
  "kernelspec": {
   "display_name": "Python 3",
   "language": "python",
   "name": "python3"
  },
  "language_info": {
   "codemirror_mode": {
    "name": "ipython",
    "version": 3
   },
   "file_extension": ".py",
   "mimetype": "text/x-python",
   "name": "python",
   "nbconvert_exporter": "python",
   "pygments_lexer": "ipython3",
   "version": "3.7.10"
  }
 },
 "nbformat": 4,
 "nbformat_minor": 5
}
