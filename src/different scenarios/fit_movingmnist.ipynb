{
 "cells": [
  {
   "cell_type": "code",
   "execution_count": 1,
   "id": "32f09a9d",
   "metadata": {},
   "outputs": [],
   "source": [
    "%load_ext autoreload\n",
    "%autoreload 2\n",
    "import sys\n",
    "\n",
    "# insert at 1, 0 is the script path (or ‘’ in REPL)\n",
    "sys.path.insert(1, '../')\n",
    "\n",
    "import numpy as np\n",
    "import torch\n",
    "from torch.utils.data import DataLoader\n",
    "from bayesian_neural_net import CLSTM_cell\n",
    "from bayesian_neural_net import ConvCell\n",
    "from bayesian_neural_net import Encoder\n",
    "from bayesian_neural_net import Decoder\n",
    "from bayesian_neural_net import ED\n",
    "from visualization import plot_spatio_temporal_data\n",
    "from simulation_dataset import MovingMNIST\n",
    "from simulation_dataset_datamodule import DatasetDataModule\n",
    "from trainer import LightningED\n",
    "from visualization import plot_spatio_temporal_data\n",
    "import pytorch_lightning as pl\n",
    "from pytorch_lightning.loggers import TensorBoardLogger"
   ]
  },
  {
   "cell_type": "code",
   "execution_count": 31,
   "id": "e4c18af1",
   "metadata": {},
   "outputs": [
    {
     "name": "stderr",
     "output_type": "stream",
     "text": [
      "GPU available: True, used: True\n",
      "TPU available: False, using: 0 TPU cores\n",
      "LOCAL_RANK: 0 - CUDA_VISIBLE_DEVICES: [0]\n",
      "\n",
      "  | Name          | Type    | Params\n",
      "------------------------------------------\n",
      "0 | ED            | ED      | 892 K \n",
      "1 | loss_function | MSELoss | 0     \n",
      "------------------------------------------\n",
      "892 K     Trainable params\n",
      "0         Non-trainable params\n",
      "892 K     Total params\n",
      "3.570     Total estimated model params size (MB)\n"
     ]
    },
    {
     "name": "stdout",
     "output_type": "stream",
     "text": [
      "GroupNorm will be applied!\n",
      "GroupNorm will be applied!\n",
      "GroupNorm will be applied!\n",
      "GroupNorm will be applied!\n"
     ]
    },
    {
     "data": {
      "application/vnd.jupyter.widget-view+json": {
       "model_id": "",
       "version_major": 2,
       "version_minor": 0
      },
      "text/plain": [
       "Validation sanity check: 0it [00:00, ?it/s]"
      ]
     },
     "metadata": {},
     "output_type": "display_data"
    },
    {
     "data": {
      "application/vnd.jupyter.widget-view+json": {
       "model_id": "b2cc90b4bc3942d9bd3da4851d5f9fc3",
       "version_major": 2,
       "version_minor": 0
      },
      "text/plain": [
       "Training: 0it [00:00, ?it/s]"
      ]
     },
     "metadata": {},
     "output_type": "display_data"
    },
    {
     "data": {
      "application/vnd.jupyter.widget-view+json": {
       "model_id": "",
       "version_major": 2,
       "version_minor": 0
      },
      "text/plain": [
       "Validating: 0it [00:00, ?it/s]"
      ]
     },
     "metadata": {},
     "output_type": "display_data"
    },
    {
     "data": {
      "application/vnd.jupyter.widget-view+json": {
       "model_id": "",
       "version_major": 2,
       "version_minor": 0
      },
      "text/plain": [
       "Validating: 0it [00:00, ?it/s]"
      ]
     },
     "metadata": {},
     "output_type": "display_data"
    },
    {
     "data": {
      "application/vnd.jupyter.widget-view+json": {
       "model_id": "",
       "version_major": 2,
       "version_minor": 0
      },
      "text/plain": [
       "Validating: 0it [00:00, ?it/s]"
      ]
     },
     "metadata": {},
     "output_type": "display_data"
    },
    {
     "data": {
      "application/vnd.jupyter.widget-view+json": {
       "model_id": "",
       "version_major": 2,
       "version_minor": 0
      },
      "text/plain": [
       "Validating: 0it [00:00, ?it/s]"
      ]
     },
     "metadata": {},
     "output_type": "display_data"
    },
    {
     "data": {
      "application/vnd.jupyter.widget-view+json": {
       "model_id": "",
       "version_major": 2,
       "version_minor": 0
      },
      "text/plain": [
       "Validating: 0it [00:00, ?it/s]"
      ]
     },
     "metadata": {},
     "output_type": "display_data"
    },
    {
     "data": {
      "application/vnd.jupyter.widget-view+json": {
       "model_id": "",
       "version_major": 2,
       "version_minor": 0
      },
      "text/plain": [
       "Validating: 0it [00:00, ?it/s]"
      ]
     },
     "metadata": {},
     "output_type": "display_data"
    },
    {
     "data": {
      "application/vnd.jupyter.widget-view+json": {
       "model_id": "",
       "version_major": 2,
       "version_minor": 0
      },
      "text/plain": [
       "Validating: 0it [00:00, ?it/s]"
      ]
     },
     "metadata": {},
     "output_type": "display_data"
    },
    {
     "data": {
      "application/vnd.jupyter.widget-view+json": {
       "model_id": "",
       "version_major": 2,
       "version_minor": 0
      },
      "text/plain": [
       "Validating: 0it [00:00, ?it/s]"
      ]
     },
     "metadata": {},
     "output_type": "display_data"
    },
    {
     "data": {
      "application/vnd.jupyter.widget-view+json": {
       "model_id": "",
       "version_major": 2,
       "version_minor": 0
      },
      "text/plain": [
       "Validating: 0it [00:00, ?it/s]"
      ]
     },
     "metadata": {},
     "output_type": "display_data"
    },
    {
     "data": {
      "application/vnd.jupyter.widget-view+json": {
       "model_id": "",
       "version_major": 2,
       "version_minor": 0
      },
      "text/plain": [
       "Validating: 0it [00:00, ?it/s]"
      ]
     },
     "metadata": {},
     "output_type": "display_data"
    },
    {
     "data": {
      "application/vnd.jupyter.widget-view+json": {
       "model_id": "",
       "version_major": 2,
       "version_minor": 0
      },
      "text/plain": [
       "Validating: 0it [00:00, ?it/s]"
      ]
     },
     "metadata": {},
     "output_type": "display_data"
    },
    {
     "data": {
      "application/vnd.jupyter.widget-view+json": {
       "model_id": "",
       "version_major": 2,
       "version_minor": 0
      },
      "text/plain": [
       "Validating: 0it [00:00, ?it/s]"
      ]
     },
     "metadata": {},
     "output_type": "display_data"
    },
    {
     "data": {
      "application/vnd.jupyter.widget-view+json": {
       "model_id": "",
       "version_major": 2,
       "version_minor": 0
      },
      "text/plain": [
       "Validating: 0it [00:00, ?it/s]"
      ]
     },
     "metadata": {},
     "output_type": "display_data"
    },
    {
     "data": {
      "application/vnd.jupyter.widget-view+json": {
       "model_id": "",
       "version_major": 2,
       "version_minor": 0
      },
      "text/plain": [
       "Validating: 0it [00:00, ?it/s]"
      ]
     },
     "metadata": {},
     "output_type": "display_data"
    },
    {
     "data": {
      "application/vnd.jupyter.widget-view+json": {
       "model_id": "",
       "version_major": 2,
       "version_minor": 0
      },
      "text/plain": [
       "Validating: 0it [00:00, ?it/s]"
      ]
     },
     "metadata": {},
     "output_type": "display_data"
    },
    {
     "data": {
      "application/vnd.jupyter.widget-view+json": {
       "model_id": "",
       "version_major": 2,
       "version_minor": 0
      },
      "text/plain": [
       "Validating: 0it [00:00, ?it/s]"
      ]
     },
     "metadata": {},
     "output_type": "display_data"
    },
    {
     "data": {
      "application/vnd.jupyter.widget-view+json": {
       "model_id": "",
       "version_major": 2,
       "version_minor": 0
      },
      "text/plain": [
       "Validating: 0it [00:00, ?it/s]"
      ]
     },
     "metadata": {},
     "output_type": "display_data"
    },
    {
     "data": {
      "application/vnd.jupyter.widget-view+json": {
       "model_id": "",
       "version_major": 2,
       "version_minor": 0
      },
      "text/plain": [
       "Validating: 0it [00:00, ?it/s]"
      ]
     },
     "metadata": {},
     "output_type": "display_data"
    },
    {
     "data": {
      "application/vnd.jupyter.widget-view+json": {
       "model_id": "",
       "version_major": 2,
       "version_minor": 0
      },
      "text/plain": [
       "Validating: 0it [00:00, ?it/s]"
      ]
     },
     "metadata": {},
     "output_type": "display_data"
    },
    {
     "data": {
      "application/vnd.jupyter.widget-view+json": {
       "model_id": "",
       "version_major": 2,
       "version_minor": 0
      },
      "text/plain": [
       "Validating: 0it [00:00, ?it/s]"
      ]
     },
     "metadata": {},
     "output_type": "display_data"
    }
   ],
   "source": [
    "root = '../../data'\n",
    "n_frames_input = 10\n",
    "n_frames_output = 10\n",
    "num_digits = 2\n",
    "image_size = 64\n",
    "digit_size = 28\n",
    "N = 200  # total number of samples including training and validation data\n",
    "\n",
    "data = MovingMNIST(root, n_frames_input, n_frames_output, num_digits, image_size, digit_size, N)\n",
    "\n",
    "data_module = DatasetDataModule(data, 1, 0.5)\n",
    "\n",
    "# build the model\n",
    "rnns = [CLSTM_cell(shape=(64, 64), input_channels=1, filter_size=3, num_features=64, dropout_rate=0), CLSTM_cell(shape=(64, 64), input_channels=64, filter_size=3, num_features=64, dropout_rate=0)]\n",
    "encoder_net = Encoder(rnns)\n",
    "rnns = [CLSTM_cell(shape=(64, 64), input_channels=1, filter_size=3, num_features=64, dropout_rate=0), CLSTM_cell(shape=(64, 64), input_channels=64, filter_size=3, num_features=64, dropout_rate=0)]\n",
    "cnn = ConvCell(in_channels=128, out_channels=1, kernel_size=1, stride=1, padding=0)\n",
    "decoder_net = Decoder(rnns, cnn)\n",
    "ED_net = ED(encoder_net, decoder_net)\n",
    "mc_dropout = 5\n",
    "learning_rate = 1e-4\n",
    "max_epoch = 20\n",
    "model = LightningED(ED_net, mc_dropout, learning_rate)\n",
    "\n",
    "\n",
    "\n",
    "# load from checkpoint\n",
    "try:\n",
    "    model.load_from_checkpoint(checkpoint_path='moving_mnist.ckpt', ED=ED_net, mc_dropout=mc_dropout, learning_rate=learning_rate)\n",
    "except:\n",
    "    pass\n",
    "\n",
    "\n",
    "\n",
    "#logger = TensorBoardLogger('tb_logs', name='Bayesian_ConvLSTM')\n",
    "\n",
    "if torch.cuda.is_available():\n",
    "    trainer = pl.Trainer(max_epochs=max_epoch, gpus=1)\n",
    "else:\n",
    "    trainer = pl.Trainer(max_epochs=max_epoch)         \n",
    "trainer.fit(model, data_module)\n",
    "\n",
    "\n",
    "\n",
    "# save the checkpoint\n",
    "trainer.save_checkpoint(\"moving_mnist.ckpt\")\n"
   ]
  },
  {
   "cell_type": "code",
   "execution_count": null,
   "id": "0c93eefa",
   "metadata": {},
   "outputs": [
    {
     "name": "stdout",
     "output_type": "stream",
     "text": [
      "GroupNorm will be applied!\n",
      "GroupNorm will be applied!\n",
      "GroupNorm will be applied!\n",
      "GroupNorm will be applied!\n"
     ]
    }
   ],
   "source": [
    "device = torch.device(\"cuda:0\" if torch.cuda.is_available() else \"cpu\")\n",
    "root = '../../data'\n",
    "n_frames_input = 10\n",
    "n_frames_output = 10\n",
    "num_digits = 2\n",
    "image_size = 64\n",
    "digit_size = 28\n",
    "N = 1  # total number of samples including training and validation data\n",
    "\n",
    "test_data = MovingMNIST(root, n_frames_input, n_frames_output, num_digits, image_size, digit_size, N)\n",
    "\n",
    "test_data_loader = DataLoader(test_data, 1)\n",
    "\n",
    "# build the model\n",
    "rnns = [CLSTM_cell(shape=(64, 64), input_channels=1, filter_size=3, num_features=64, dropout_rate=0.1), CLSTM_cell(shape=(64, 64), input_channels=64, filter_size=3, num_features=64, dropout_rate=0.1)]\n",
    "encoder_net = Encoder(rnns)\n",
    "rnns = [CLSTM_cell(shape=(64, 64), input_channels=1, filter_size=3, num_features=64, dropout_rate=0.1), CLSTM_cell(shape=(64, 64), input_channels=64, filter_size=3, num_features=64, dropout_rate=0.1)]\n",
    "cnn = ConvCell(in_channels=128, out_channels=1, kernel_size=1, stride=1, padding=0)\n",
    "decoder_net = Decoder(rnns, cnn)\n",
    "ED_net = ED(encoder_net, decoder_net)\n",
    "mc_dropout = 10\n",
    "learning_rate = 1e-4\n",
    "max_epoch = 20\n",
    "model = LightningED(ED_net, mc_dropout, learning_rate)\n",
    "\n",
    "\n",
    "\n",
    "# load from checkpoint\n",
    "model.load_from_checkpoint(checkpoint_path='moving_mnist.ckpt', ED=ED_net, mc_dropout=mc_dropout, learning_rate=learning_rate)\n",
    "\n",
    "model.to(device)  # transfer the model to gpu\n",
    "\n",
    "# predict for one sample\n",
    "for idx, batch in enumerate(test_data_loader):\n",
    "\n",
    "    idx, input_for_encoder, input_for_decoder, additional_time_invariant_input, true_output, seq_len = batch\n",
    "    \n",
    "    true_data = torch.cat((input_for_encoder[0], true_output[0]), 1)\n",
    "    true_data = true_data.squeeze()\n",
    "\n",
    "\n",
    "\n",
    "    input_for_encoder = [i.to(device) for i in input_for_encoder]\n",
    "    if len(input_for_decoder) != 0:\n",
    "        input_for_decoder = [i.to(device) for i in input_for_decoder]\n",
    "    if len(additional_time_invariant_input) != 0:\n",
    "        additional_time_invariant_input = [i.to(device) for i in additional_time_invariant_input]\n",
    "\n",
    "\n",
    "    output = model(input_for_encoder, input_for_decoder, additional_time_invariant_input, seq_len)\n",
    "    \n",
    "    if idx == 0:\n",
    "        break\n",
    "        \n",
    "\n",
    "# transfer the tensor on gpu on cpu\n",
    "predicted_data = torch.cat(output, dim=1).cpu().detach().numpy().squeeze(0).squeeze(1)\n",
    "true_data = true_data.cpu().detach().numpy()\n",
    "\n",
    "# plot the true data\n",
    "plot_spatio_temporal_data(true_data)\n",
    "plot_spatio_temporal_data(predicted_data)\n",
    "\n",
    "\n",
    "print(\"error for the new sample is %.4f\"%np.mean((predicted_data - true_data[~mask, ...])**2))"
   ]
  },
  {
   "cell_type": "code",
   "execution_count": null,
   "id": "fd9cb555",
   "metadata": {},
   "outputs": [],
   "source": []
  }
 ],
 "metadata": {
  "environment": {
   "name": "pytorch-gpu.1-9.m75",
   "type": "gcloud",
   "uri": "gcr.io/deeplearning-platform-release/pytorch-gpu.1-9:m75"
  },
  "kernelspec": {
   "display_name": "Python 3",
   "language": "python",
   "name": "python3"
  },
  "language_info": {
   "codemirror_mode": {
    "name": "ipython",
    "version": 3
   },
   "file_extension": ".py",
   "mimetype": "text/x-python",
   "name": "python",
   "nbconvert_exporter": "python",
   "pygments_lexer": "ipython3",
   "version": "3.7.10"
  }
 },
 "nbformat": 4,
 "nbformat_minor": 5
}
